{
 "cells": [
  {
   "cell_type": "code",
   "execution_count": null,
   "metadata": {},
   "outputs": [
    {
     "ename": "Error",
     "evalue": "Conflict with a committed line: \nconst person1: IPerson = {\n______^\nTS2451: Cannot redeclare block-scoped variable 'person1'.\n\nLine 17, Character 7\nconst person1: IPerson = {\n______^\nTS2451: Cannot redeclare block-scoped variable 'person1'.",
     "execution_count": 7,
     "output_type": "error",
     "traceback": [
      "Error: Conflict with a committed line: ",
      "const person1: IPerson = {",
      "______^",
      "TS2451: Cannot redeclare block-scoped variable 'person1'.",
      "",
      "Line 17, Character 7",
      "const person1: IPerson = {",
      "______^",
      "TS2451: Cannot redeclare block-scoped variable 'person1'.",
      "    at execTranspile (/Users/jutianfeng/.nvm/versions/node/v14.15.0/lib/node_modules/itypescript/lib/kernel.js:229:23)",
      "    at Session.transpiler [as transpile] (/Users/jutianfeng/.nvm/versions/node/v14.15.0/lib/node_modules/itypescript/lib/kernel.js:288:35)",
      "    at Session._runNow (/Users/jutianfeng/.nvm/versions/node/v14.15.0/lib/node_modules/itypescript/node_modules/nel/lib/nel.js:821:39)",
      "    at Session._run (/Users/jutianfeng/.nvm/versions/node/v14.15.0/lib/node_modules/itypescript/node_modules/nel/lib/nel.js:774:14)",
      "    at Session.execute (/Users/jutianfeng/.nvm/versions/node/v14.15.0/lib/node_modules/itypescript/node_modules/nel/lib/nel.js:915:10)",
      "    at Kernel.execute_request (/Users/jutianfeng/.nvm/versions/node/v14.15.0/lib/node_modules/itypescript/node_modules/jp-kernel/lib/handlers_v5.js:116:18)",
      "    at Kernel.onShellMessage (/Users/jutianfeng/.nvm/versions/node/v14.15.0/lib/node_modules/itypescript/node_modules/jp-kernel/lib/jp-kernel.js:285:41)",
      "    at Socket.<anonymous> (/Users/jutianfeng/.nvm/versions/node/v14.15.0/lib/node_modules/itypescript/node_modules/jmp/index.js:350:17)",
      "    at Socket.emit (events.js:315:20)",
      "    at Socket._emitMessage (/Users/jutianfeng/.nvm/versions/node/v14.15.0/lib/node_modules/itypescript/node_modules/zeromq/lib/index.js:649:15)"
     ]
    }
   ],
   "source": [
    "// 接口\n",
    "\n",
    "/**\n",
    " * TypeScript 的核心原则之一是对值所具有的结构进行类型检查。我们使用接口（Interfaces）来定义对象的类型。\n",
    " * 接口是对象的状态(属性)和行为(方法)的抽象(描述)\n",
    " */\n",
    "\n",
    "// 1. 定义一个人的接口\n",
    "export {};\n",
    "interface IPerson {\n",
    "    id: number;\n",
    "    name: string;\n",
    "    age: number;\n",
    "    sex: string;\n",
    "}\n",
    "\n",
    "const person1: IPerson = {\n",
    "    id: 1,\n",
    "    name: 'Tom',\n",
    "    age: 20,\n",
    "    sex: '男'\n",
    "}\n",
    "\n",
    "console.log(person1)"
   ]
  },
  {
   "cell_type": "code",
   "execution_count": null,
   "metadata": {},
   "outputs": [],
   "source": [
    "/**\n",
    " * 2.可选属性\n",
    " * 接口里的属性不全都是必需的。 \n",
    " */\n",
    "export {};\n",
    "interface IPersonOption {\n",
    "    id: number;\n",
    "    name: string;\n",
    "    age: number;\n",
    "    sex?: string; // 可选值\n",
    "}\n",
    "\n",
    "const personOption: IPersonOption = {\n",
    "  id: 1,\n",
    "  name: 'tom',\n",
    "  age: 20,\n",
    "  sex: '男' // 可以没有\n",
    "}\n",
    "\n",
    "console.log(personOption)"
   ]
  },
  {
   "cell_type": "code",
   "execution_count": null,
   "metadata": {},
   "outputs": [],
   "source": []
  },
  {
   "cell_type": "code",
   "execution_count": null,
   "metadata": {},
   "outputs": [],
   "source": []
  },
  {
   "cell_type": "code",
   "execution_count": null,
   "metadata": {},
   "outputs": [],
   "source": []
  },
  {
   "cell_type": "code",
   "execution_count": null,
   "metadata": {},
   "outputs": [],
   "source": []
  },
  {
   "cell_type": "code",
   "execution_count": null,
   "metadata": {},
   "outputs": [],
   "source": []
  },
  {
   "cell_type": "code",
   "execution_count": null,
   "metadata": {},
   "outputs": [],
   "source": []
  }
 ],
 "metadata": {
  "kernelspec": {
   "display_name": "Typescript 4.5",
   "language": "typescript",
   "name": "typescript"
  },
  "language_info": {
   "file_extension": ".ts",
   "mimetype": "application/x-typescript",
   "name": "typescript",
   "version": "4.5.5"
  }
 },
 "nbformat": 4,
 "nbformat_minor": 4
}
